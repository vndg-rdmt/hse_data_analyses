{
 "cells": [
  {
   "cell_type": "markdown",
   "id": "2a13a33b",
   "metadata": {},
   "source": [
    "Домашняя работа №1.1 (Pandas)\n",
    "В городе SQL произошло убийство! SQL Murder Mystery - это одновременно и самостоятельный урок для изучения концепций и команд SQL, и увлекательная игра для опытных пользователей SQL, в которой нужно раскрыть интригующее преступление. Произошло преступление, и детективу нужна ваша помощь. Детектив дал вам отчет о месте преступления, но вы каким-то образом потеряли его. Вы смутно помните, что преступление было убийством, произошедшим 15 января 2018 года, и что оно произошло в SQL City. Начните с поиска соответствующего отчета о месте преступления в базе данных полицейского управления."
   ]
  },
  {
   "cell_type": "markdown",
   "id": "8dfc94fa",
   "metadata": {},
   "source": [
    "Импорты"
   ]
  },
  {
   "cell_type": "code",
   "execution_count": 1,
   "id": "b4b54220",
   "metadata": {},
   "outputs": [],
   "source": [
    "import pandas as pd\n",
    "from datetime import datetime"
   ]
  },
  {
   "cell_type": "markdown",
   "id": "9954b5ff",
   "metadata": {},
   "source": [
    "Загрузить каждый отчет"
   ]
  },
  {
   "cell_type": "code",
   "execution_count": 2,
   "id": "75b86fb1",
   "metadata": {},
   "outputs": [
    {
     "data": {
      "text/html": [
       "<div>\n",
       "<style scoped>\n",
       "    .dataframe tbody tr th:only-of-type {\n",
       "        vertical-align: middle;\n",
       "    }\n",
       "\n",
       "    .dataframe tbody tr th {\n",
       "        vertical-align: top;\n",
       "    }\n",
       "\n",
       "    .dataframe thead th {\n",
       "        text-align: right;\n",
       "    }\n",
       "</style>\n",
       "<table border=\"1\" class=\"dataframe\">\n",
       "  <thead>\n",
       "    <tr style=\"text-align: right;\">\n",
       "      <th></th>\n",
       "      <th>date</th>\n",
       "      <th>type</th>\n",
       "      <th>description</th>\n",
       "      <th>city</th>\n",
       "    </tr>\n",
       "  </thead>\n",
       "  <tbody>\n",
       "    <tr>\n",
       "      <th>0</th>\n",
       "      <td>20180115</td>\n",
       "      <td>robbery</td>\n",
       "      <td>A Man Dressed as Spider-Man Is on a Robbery Spree</td>\n",
       "      <td>NYC</td>\n",
       "    </tr>\n",
       "    <tr>\n",
       "      <th>1</th>\n",
       "      <td>20180115</td>\n",
       "      <td>murder</td>\n",
       "      <td>Life? Dont talk to me about life.</td>\n",
       "      <td>Albany</td>\n",
       "    </tr>\n",
       "    <tr>\n",
       "      <th>2</th>\n",
       "      <td>20180115</td>\n",
       "      <td>murder</td>\n",
       "      <td>Mama, I killed a man, put a gun against his he...</td>\n",
       "      <td>Reno</td>\n",
       "    </tr>\n",
       "    <tr>\n",
       "      <th>3</th>\n",
       "      <td>20180215</td>\n",
       "      <td>murder</td>\n",
       "      <td>REDACTED REDACTED REDACTED</td>\n",
       "      <td>SQL City</td>\n",
       "    </tr>\n",
       "    <tr>\n",
       "      <th>4</th>\n",
       "      <td>20180215</td>\n",
       "      <td>murder</td>\n",
       "      <td>Someone killed the guard! He took an arrow to ...</td>\n",
       "      <td>SQL City</td>\n",
       "    </tr>\n",
       "  </tbody>\n",
       "</table>\n",
       "</div>"
      ],
      "text/plain": [
       "       date     type                                        description  \\\n",
       "0  20180115  robbery  A Man Dressed as Spider-Man Is on a Robbery Spree   \n",
       "1  20180115   murder                  Life? Dont talk to me about life.   \n",
       "2  20180115   murder  Mama, I killed a man, put a gun against his he...   \n",
       "3  20180215   murder                         REDACTED REDACTED REDACTED   \n",
       "4  20180215   murder  Someone killed the guard! He took an arrow to ...   \n",
       "\n",
       "       city  \n",
       "0       NYC  \n",
       "1    Albany  \n",
       "2      Reno  \n",
       "3  SQL City  \n",
       "4  SQL City  "
      ]
     },
     "execution_count": 2,
     "metadata": {},
     "output_type": "execute_result"
    }
   ],
   "source": [
    "# path prefix\n",
    "data_path = './data_pandas/'\n",
    "crime_scene_report = pd.read_csv(data_path + 'crime_scene_report.csv')\n",
    "crime_scene_report.head()"
   ]
  },
  {
   "cell_type": "code",
   "execution_count": 3,
   "id": "2527579a",
   "metadata": {},
   "outputs": [
    {
     "data": {
      "text/html": [
       "<div>\n",
       "<style scoped>\n",
       "    .dataframe tbody tr th:only-of-type {\n",
       "        vertical-align: middle;\n",
       "    }\n",
       "\n",
       "    .dataframe tbody tr th {\n",
       "        vertical-align: top;\n",
       "    }\n",
       "\n",
       "    .dataframe thead th {\n",
       "        text-align: right;\n",
       "    }\n",
       "</style>\n",
       "<table border=\"1\" class=\"dataframe\">\n",
       "  <thead>\n",
       "    <tr style=\"text-align: right;\">\n",
       "      <th></th>\n",
       "      <th>id</th>\n",
       "      <th>age</th>\n",
       "      <th>height</th>\n",
       "      <th>eye_color</th>\n",
       "      <th>hair_color</th>\n",
       "      <th>gender</th>\n",
       "      <th>plate_number</th>\n",
       "      <th>car_make</th>\n",
       "      <th>car_model</th>\n",
       "    </tr>\n",
       "  </thead>\n",
       "  <tbody>\n",
       "    <tr>\n",
       "      <th>0</th>\n",
       "      <td>100280</td>\n",
       "      <td>72</td>\n",
       "      <td>57</td>\n",
       "      <td>brown</td>\n",
       "      <td>red</td>\n",
       "      <td>male</td>\n",
       "      <td>P24L4U</td>\n",
       "      <td>Acura</td>\n",
       "      <td>MDX</td>\n",
       "    </tr>\n",
       "    <tr>\n",
       "      <th>1</th>\n",
       "      <td>100460</td>\n",
       "      <td>63</td>\n",
       "      <td>72</td>\n",
       "      <td>brown</td>\n",
       "      <td>brown</td>\n",
       "      <td>female</td>\n",
       "      <td>XF02T6</td>\n",
       "      <td>Cadillac</td>\n",
       "      <td>SRX</td>\n",
       "    </tr>\n",
       "    <tr>\n",
       "      <th>2</th>\n",
       "      <td>101029</td>\n",
       "      <td>62</td>\n",
       "      <td>74</td>\n",
       "      <td>green</td>\n",
       "      <td>green</td>\n",
       "      <td>female</td>\n",
       "      <td>VKY5KR</td>\n",
       "      <td>Scion</td>\n",
       "      <td>xB</td>\n",
       "    </tr>\n",
       "    <tr>\n",
       "      <th>3</th>\n",
       "      <td>101198</td>\n",
       "      <td>43</td>\n",
       "      <td>54</td>\n",
       "      <td>amber</td>\n",
       "      <td>brown</td>\n",
       "      <td>female</td>\n",
       "      <td>Y5NZ08</td>\n",
       "      <td>Nissan</td>\n",
       "      <td>Rogue</td>\n",
       "    </tr>\n",
       "    <tr>\n",
       "      <th>4</th>\n",
       "      <td>101255</td>\n",
       "      <td>18</td>\n",
       "      <td>79</td>\n",
       "      <td>blue</td>\n",
       "      <td>grey</td>\n",
       "      <td>female</td>\n",
       "      <td>5162Z1</td>\n",
       "      <td>Lexus</td>\n",
       "      <td>GS</td>\n",
       "    </tr>\n",
       "  </tbody>\n",
       "</table>\n",
       "</div>"
      ],
      "text/plain": [
       "       id  age  height eye_color hair_color  gender plate_number  car_make  \\\n",
       "0  100280   72      57     brown        red    male       P24L4U     Acura   \n",
       "1  100460   63      72     brown      brown  female       XF02T6  Cadillac   \n",
       "2  101029   62      74     green      green  female       VKY5KR     Scion   \n",
       "3  101198   43      54     amber      brown  female       Y5NZ08    Nissan   \n",
       "4  101255   18      79      blue       grey  female       5162Z1     Lexus   \n",
       "\n",
       "  car_model  \n",
       "0       MDX  \n",
       "1       SRX  \n",
       "2        xB  \n",
       "3     Rogue  \n",
       "4        GS  "
      ]
     },
     "execution_count": 3,
     "metadata": {},
     "output_type": "execute_result"
    }
   ],
   "source": [
    "drivers_license = pd.read_csv(data_path + 'drivers_license.csv')\n",
    "drivers_license.head()"
   ]
  },
  {
   "cell_type": "code",
   "execution_count": 4,
   "id": "ec67fc66",
   "metadata": {},
   "outputs": [
    {
     "data": {
      "text/html": [
       "<div>\n",
       "<style scoped>\n",
       "    .dataframe tbody tr th:only-of-type {\n",
       "        vertical-align: middle;\n",
       "    }\n",
       "\n",
       "    .dataframe tbody tr th {\n",
       "        vertical-align: top;\n",
       "    }\n",
       "\n",
       "    .dataframe thead th {\n",
       "        text-align: right;\n",
       "    }\n",
       "</style>\n",
       "<table border=\"1\" class=\"dataframe\">\n",
       "  <thead>\n",
       "    <tr style=\"text-align: right;\">\n",
       "      <th></th>\n",
       "      <th>person_id</th>\n",
       "      <th>event_id</th>\n",
       "      <th>event_name</th>\n",
       "      <th>date</th>\n",
       "    </tr>\n",
       "  </thead>\n",
       "  <tbody>\n",
       "    <tr>\n",
       "      <th>0</th>\n",
       "      <td>28508</td>\n",
       "      <td>5880</td>\n",
       "      <td>Nudists are people who wear one-button suits.\\n</td>\n",
       "      <td>20170913</td>\n",
       "    </tr>\n",
       "    <tr>\n",
       "      <th>1</th>\n",
       "      <td>63713</td>\n",
       "      <td>3865</td>\n",
       "      <td>but that's because it's the best book on anyth...</td>\n",
       "      <td>20171009</td>\n",
       "    </tr>\n",
       "    <tr>\n",
       "      <th>2</th>\n",
       "      <td>63713</td>\n",
       "      <td>3999</td>\n",
       "      <td>If Murphy's Law can go wrong, it will.\\n</td>\n",
       "      <td>20170502</td>\n",
       "    </tr>\n",
       "    <tr>\n",
       "      <th>3</th>\n",
       "      <td>63713</td>\n",
       "      <td>6436</td>\n",
       "      <td>Old programmers never die.  They just branch t...</td>\n",
       "      <td>20170926</td>\n",
       "    </tr>\n",
       "    <tr>\n",
       "      <th>4</th>\n",
       "      <td>82998</td>\n",
       "      <td>4470</td>\n",
       "      <td>Help a swallow land at Capistrano.\\n</td>\n",
       "      <td>20171022</td>\n",
       "    </tr>\n",
       "  </tbody>\n",
       "</table>\n",
       "</div>"
      ],
      "text/plain": [
       "   person_id  event_id                                         event_name  \\\n",
       "0      28508      5880    Nudists are people who wear one-button suits.\\n   \n",
       "1      63713      3865  but that's because it's the best book on anyth...   \n",
       "2      63713      3999           If Murphy's Law can go wrong, it will.\\n   \n",
       "3      63713      6436  Old programmers never die.  They just branch t...   \n",
       "4      82998      4470               Help a swallow land at Capistrano.\\n   \n",
       "\n",
       "       date  \n",
       "0  20170913  \n",
       "1  20171009  \n",
       "2  20170502  \n",
       "3  20170926  \n",
       "4  20171022  "
      ]
     },
     "execution_count": 4,
     "metadata": {},
     "output_type": "execute_result"
    }
   ],
   "source": [
    "facebook_event_checkin = pd.read_csv(data_path + 'facebook_event_checkin.csv')\n",
    "facebook_event_checkin.head()"
   ]
  },
  {
   "cell_type": "code",
   "execution_count": 5,
   "id": "21f26ab2",
   "metadata": {},
   "outputs": [
    {
     "data": {
      "text/html": [
       "<div>\n",
       "<style scoped>\n",
       "    .dataframe tbody tr th:only-of-type {\n",
       "        vertical-align: middle;\n",
       "    }\n",
       "\n",
       "    .dataframe tbody tr th {\n",
       "        vertical-align: top;\n",
       "    }\n",
       "\n",
       "    .dataframe thead th {\n",
       "        text-align: right;\n",
       "    }\n",
       "</style>\n",
       "<table border=\"1\" class=\"dataframe\">\n",
       "  <thead>\n",
       "    <tr style=\"text-align: right;\">\n",
       "      <th></th>\n",
       "      <th>membership_id</th>\n",
       "      <th>check_in_date</th>\n",
       "      <th>check_in_time</th>\n",
       "      <th>check_out_time</th>\n",
       "    </tr>\n",
       "  </thead>\n",
       "  <tbody>\n",
       "    <tr>\n",
       "      <th>0</th>\n",
       "      <td>NL318</td>\n",
       "      <td>20180212</td>\n",
       "      <td>329</td>\n",
       "      <td>365</td>\n",
       "    </tr>\n",
       "    <tr>\n",
       "      <th>1</th>\n",
       "      <td>NL318</td>\n",
       "      <td>20170811</td>\n",
       "      <td>469</td>\n",
       "      <td>920</td>\n",
       "    </tr>\n",
       "    <tr>\n",
       "      <th>2</th>\n",
       "      <td>NL318</td>\n",
       "      <td>20180429</td>\n",
       "      <td>506</td>\n",
       "      <td>554</td>\n",
       "    </tr>\n",
       "    <tr>\n",
       "      <th>3</th>\n",
       "      <td>NL318</td>\n",
       "      <td>20180128</td>\n",
       "      <td>124</td>\n",
       "      <td>759</td>\n",
       "    </tr>\n",
       "    <tr>\n",
       "      <th>4</th>\n",
       "      <td>NL318</td>\n",
       "      <td>20171027</td>\n",
       "      <td>418</td>\n",
       "      <td>1019</td>\n",
       "    </tr>\n",
       "  </tbody>\n",
       "</table>\n",
       "</div>"
      ],
      "text/plain": [
       "  membership_id  check_in_date  check_in_time  check_out_time\n",
       "0         NL318       20180212            329             365\n",
       "1         NL318       20170811            469             920\n",
       "2         NL318       20180429            506             554\n",
       "3         NL318       20180128            124             759\n",
       "4         NL318       20171027            418            1019"
      ]
     },
     "execution_count": 5,
     "metadata": {},
     "output_type": "execute_result"
    }
   ],
   "source": [
    "get_fit_now_check_in = pd.read_csv(data_path + 'get_fit_now_check_in.csv')\n",
    "get_fit_now_check_in.head()"
   ]
  },
  {
   "cell_type": "code",
   "execution_count": 6,
   "id": "22fa6ff1",
   "metadata": {},
   "outputs": [
    {
     "data": {
      "text/html": [
       "<div>\n",
       "<style scoped>\n",
       "    .dataframe tbody tr th:only-of-type {\n",
       "        vertical-align: middle;\n",
       "    }\n",
       "\n",
       "    .dataframe tbody tr th {\n",
       "        vertical-align: top;\n",
       "    }\n",
       "\n",
       "    .dataframe thead th {\n",
       "        text-align: right;\n",
       "    }\n",
       "</style>\n",
       "<table border=\"1\" class=\"dataframe\">\n",
       "  <thead>\n",
       "    <tr style=\"text-align: right;\">\n",
       "      <th></th>\n",
       "      <th>id</th>\n",
       "      <th>person_id</th>\n",
       "      <th>name</th>\n",
       "      <th>membership_start_date</th>\n",
       "      <th>membership_status</th>\n",
       "    </tr>\n",
       "  </thead>\n",
       "  <tbody>\n",
       "    <tr>\n",
       "      <th>0</th>\n",
       "      <td>NL318</td>\n",
       "      <td>65076</td>\n",
       "      <td>Everette Koepke</td>\n",
       "      <td>20170926</td>\n",
       "      <td>gold</td>\n",
       "    </tr>\n",
       "    <tr>\n",
       "      <th>1</th>\n",
       "      <td>AOE21</td>\n",
       "      <td>39426</td>\n",
       "      <td>Noe Locascio</td>\n",
       "      <td>20171005</td>\n",
       "      <td>regular</td>\n",
       "    </tr>\n",
       "    <tr>\n",
       "      <th>2</th>\n",
       "      <td>2PN28</td>\n",
       "      <td>63823</td>\n",
       "      <td>Jeromy Heitschmidt</td>\n",
       "      <td>20180215</td>\n",
       "      <td>silver</td>\n",
       "    </tr>\n",
       "    <tr>\n",
       "      <th>3</th>\n",
       "      <td>0YJ24</td>\n",
       "      <td>80651</td>\n",
       "      <td>Waneta Wellard</td>\n",
       "      <td>20171206</td>\n",
       "      <td>gold</td>\n",
       "    </tr>\n",
       "    <tr>\n",
       "      <th>4</th>\n",
       "      <td>3A08L</td>\n",
       "      <td>32858</td>\n",
       "      <td>Mei Bianchin</td>\n",
       "      <td>20170401</td>\n",
       "      <td>silver</td>\n",
       "    </tr>\n",
       "  </tbody>\n",
       "</table>\n",
       "</div>"
      ],
      "text/plain": [
       "      id  person_id                name  membership_start_date  \\\n",
       "0  NL318      65076     Everette Koepke               20170926   \n",
       "1  AOE21      39426        Noe Locascio               20171005   \n",
       "2  2PN28      63823  Jeromy Heitschmidt               20180215   \n",
       "3  0YJ24      80651      Waneta Wellard               20171206   \n",
       "4  3A08L      32858        Mei Bianchin               20170401   \n",
       "\n",
       "  membership_status  \n",
       "0              gold  \n",
       "1           regular  \n",
       "2            silver  \n",
       "3              gold  \n",
       "4            silver  "
      ]
     },
     "execution_count": 6,
     "metadata": {},
     "output_type": "execute_result"
    }
   ],
   "source": [
    "get_fit_now_member = pd.read_csv(data_path + 'get_fit_now_member.csv')\n",
    "get_fit_now_member.head()"
   ]
  },
  {
   "cell_type": "code",
   "execution_count": 7,
   "id": "82c66886",
   "metadata": {},
   "outputs": [
    {
     "data": {
      "text/html": [
       "<div>\n",
       "<style scoped>\n",
       "    .dataframe tbody tr th:only-of-type {\n",
       "        vertical-align: middle;\n",
       "    }\n",
       "\n",
       "    .dataframe tbody tr th {\n",
       "        vertical-align: top;\n",
       "    }\n",
       "\n",
       "    .dataframe thead th {\n",
       "        text-align: right;\n",
       "    }\n",
       "</style>\n",
       "<table border=\"1\" class=\"dataframe\">\n",
       "  <thead>\n",
       "    <tr style=\"text-align: right;\">\n",
       "      <th></th>\n",
       "      <th>ssn</th>\n",
       "      <th>annual_income</th>\n",
       "    </tr>\n",
       "  </thead>\n",
       "  <tbody>\n",
       "    <tr>\n",
       "      <th>0</th>\n",
       "      <td>100009868</td>\n",
       "      <td>52200</td>\n",
       "    </tr>\n",
       "    <tr>\n",
       "      <th>1</th>\n",
       "      <td>100169584</td>\n",
       "      <td>64500</td>\n",
       "    </tr>\n",
       "    <tr>\n",
       "      <th>2</th>\n",
       "      <td>100300433</td>\n",
       "      <td>74400</td>\n",
       "    </tr>\n",
       "    <tr>\n",
       "      <th>3</th>\n",
       "      <td>100355733</td>\n",
       "      <td>35900</td>\n",
       "    </tr>\n",
       "    <tr>\n",
       "      <th>4</th>\n",
       "      <td>100366269</td>\n",
       "      <td>73000</td>\n",
       "    </tr>\n",
       "  </tbody>\n",
       "</table>\n",
       "</div>"
      ],
      "text/plain": [
       "         ssn  annual_income\n",
       "0  100009868          52200\n",
       "1  100169584          64500\n",
       "2  100300433          74400\n",
       "3  100355733          35900\n",
       "4  100366269          73000"
      ]
     },
     "execution_count": 7,
     "metadata": {},
     "output_type": "execute_result"
    }
   ],
   "source": [
    "income = pd.read_csv(data_path + 'income.csv')\n",
    "income.head()"
   ]
  },
  {
   "cell_type": "code",
   "execution_count": 8,
   "id": "c434a50a",
   "metadata": {},
   "outputs": [
    {
     "data": {
      "text/html": [
       "<div>\n",
       "<style scoped>\n",
       "    .dataframe tbody tr th:only-of-type {\n",
       "        vertical-align: middle;\n",
       "    }\n",
       "\n",
       "    .dataframe tbody tr th {\n",
       "        vertical-align: top;\n",
       "    }\n",
       "\n",
       "    .dataframe thead th {\n",
       "        text-align: right;\n",
       "    }\n",
       "</style>\n",
       "<table border=\"1\" class=\"dataframe\">\n",
       "  <thead>\n",
       "    <tr style=\"text-align: right;\">\n",
       "      <th></th>\n",
       "      <th>person_id</th>\n",
       "      <th>transcript</th>\n",
       "    </tr>\n",
       "  </thead>\n",
       "  <tbody>\n",
       "    <tr>\n",
       "      <th>0</th>\n",
       "      <td>28508</td>\n",
       "      <td>‘I deny it!’ said the March Hare.\\n</td>\n",
       "    </tr>\n",
       "    <tr>\n",
       "      <th>1</th>\n",
       "      <td>63713</td>\n",
       "      <td>\\n</td>\n",
       "    </tr>\n",
       "    <tr>\n",
       "      <th>2</th>\n",
       "      <td>86208</td>\n",
       "      <td>way, and the whole party swam to the shore.\\n</td>\n",
       "    </tr>\n",
       "    <tr>\n",
       "      <th>3</th>\n",
       "      <td>35267</td>\n",
       "      <td>lessons in here? Why, there’s hardly room for ...</td>\n",
       "    </tr>\n",
       "    <tr>\n",
       "      <th>4</th>\n",
       "      <td>33856</td>\n",
       "      <td>\\n</td>\n",
       "    </tr>\n",
       "  </tbody>\n",
       "</table>\n",
       "</div>"
      ],
      "text/plain": [
       "   person_id                                         transcript\n",
       "0      28508                ‘I deny it!’ said the March Hare.\\n\n",
       "1      63713                                                 \\n\n",
       "2      86208      way, and the whole party swam to the shore.\\n\n",
       "3      35267  lessons in here? Why, there’s hardly room for ...\n",
       "4      33856                                                 \\n"
      ]
     },
     "execution_count": 8,
     "metadata": {},
     "output_type": "execute_result"
    }
   ],
   "source": [
    "interview = pd.read_csv(data_path + 'interview.csv')\n",
    "interview.head()"
   ]
  },
  {
   "cell_type": "code",
   "execution_count": 9,
   "id": "58cc71e5",
   "metadata": {},
   "outputs": [
    {
     "data": {
      "text/html": [
       "<div>\n",
       "<style scoped>\n",
       "    .dataframe tbody tr th:only-of-type {\n",
       "        vertical-align: middle;\n",
       "    }\n",
       "\n",
       "    .dataframe tbody tr th {\n",
       "        vertical-align: top;\n",
       "    }\n",
       "\n",
       "    .dataframe thead th {\n",
       "        text-align: right;\n",
       "    }\n",
       "</style>\n",
       "<table border=\"1\" class=\"dataframe\">\n",
       "  <thead>\n",
       "    <tr style=\"text-align: right;\">\n",
       "      <th></th>\n",
       "      <th>id</th>\n",
       "      <th>name</th>\n",
       "      <th>license_id</th>\n",
       "      <th>address_number</th>\n",
       "      <th>address_street_name</th>\n",
       "      <th>ssn</th>\n",
       "    </tr>\n",
       "  </thead>\n",
       "  <tbody>\n",
       "    <tr>\n",
       "      <th>0</th>\n",
       "      <td>10000</td>\n",
       "      <td>Christoper Peteuil</td>\n",
       "      <td>993845</td>\n",
       "      <td>624</td>\n",
       "      <td>Bankhall Ave</td>\n",
       "      <td>747714076</td>\n",
       "    </tr>\n",
       "    <tr>\n",
       "      <th>1</th>\n",
       "      <td>10007</td>\n",
       "      <td>Kourtney Calderwood</td>\n",
       "      <td>861794</td>\n",
       "      <td>2791</td>\n",
       "      <td>Gustavus Blvd</td>\n",
       "      <td>477972044</td>\n",
       "    </tr>\n",
       "    <tr>\n",
       "      <th>2</th>\n",
       "      <td>10010</td>\n",
       "      <td>Muoi Cary</td>\n",
       "      <td>385336</td>\n",
       "      <td>741</td>\n",
       "      <td>Northwestern Dr</td>\n",
       "      <td>828638512</td>\n",
       "    </tr>\n",
       "    <tr>\n",
       "      <th>3</th>\n",
       "      <td>10016</td>\n",
       "      <td>Era Moselle</td>\n",
       "      <td>431897</td>\n",
       "      <td>1987</td>\n",
       "      <td>Wood Glade St</td>\n",
       "      <td>614621061</td>\n",
       "    </tr>\n",
       "    <tr>\n",
       "      <th>4</th>\n",
       "      <td>10025</td>\n",
       "      <td>Trena Hornby</td>\n",
       "      <td>550890</td>\n",
       "      <td>276</td>\n",
       "      <td>Daws Hill Way</td>\n",
       "      <td>223877684</td>\n",
       "    </tr>\n",
       "  </tbody>\n",
       "</table>\n",
       "</div>"
      ],
      "text/plain": [
       "      id                 name  license_id  address_number address_street_name  \\\n",
       "0  10000   Christoper Peteuil      993845             624        Bankhall Ave   \n",
       "1  10007  Kourtney Calderwood      861794            2791       Gustavus Blvd   \n",
       "2  10010            Muoi Cary      385336             741     Northwestern Dr   \n",
       "3  10016          Era Moselle      431897            1987       Wood Glade St   \n",
       "4  10025         Trena Hornby      550890             276       Daws Hill Way   \n",
       "\n",
       "         ssn  \n",
       "0  747714076  \n",
       "1  477972044  \n",
       "2  828638512  \n",
       "3  614621061  \n",
       "4  223877684  "
      ]
     },
     "execution_count": 9,
     "metadata": {},
     "output_type": "execute_result"
    }
   ],
   "source": [
    "person = pd.read_csv(data_path + 'person.csv')\n",
    "person.head()"
   ]
  },
  {
   "cell_type": "markdown",
   "id": "5d483d33",
   "metadata": {},
   "source": [
    "Только нужные убийства"
   ]
  },
  {
   "cell_type": "code",
   "execution_count": 10,
   "id": "2b40f34d",
   "metadata": {},
   "outputs": [
    {
     "data": {
      "text/html": [
       "<div>\n",
       "<style scoped>\n",
       "    .dataframe tbody tr th:only-of-type {\n",
       "        vertical-align: middle;\n",
       "    }\n",
       "\n",
       "    .dataframe tbody tr th {\n",
       "        vertical-align: top;\n",
       "    }\n",
       "\n",
       "    .dataframe thead th {\n",
       "        text-align: right;\n",
       "    }\n",
       "</style>\n",
       "<table border=\"1\" class=\"dataframe\">\n",
       "  <thead>\n",
       "    <tr style=\"text-align: right;\">\n",
       "      <th></th>\n",
       "      <th>date</th>\n",
       "      <th>type</th>\n",
       "      <th>description</th>\n",
       "      <th>city</th>\n",
       "    </tr>\n",
       "  </thead>\n",
       "  <tbody>\n",
       "    <tr>\n",
       "      <th>1227</th>\n",
       "      <td>20180115</td>\n",
       "      <td>murder</td>\n",
       "      <td>Security footage shows that there were 2 witne...</td>\n",
       "      <td>SQL City</td>\n",
       "    </tr>\n",
       "  </tbody>\n",
       "</table>\n",
       "</div>"
      ],
      "text/plain": [
       "          date    type                                        description  \\\n",
       "1227  20180115  murder  Security footage shows that there were 2 witne...   \n",
       "\n",
       "          city  \n",
       "1227  SQL City  "
      ]
     },
     "execution_count": 10,
     "metadata": {},
     "output_type": "execute_result"
    }
   ],
   "source": [
    "needed_reports = crime_scene_report[\n",
    "    (crime_scene_report['date'] == 20180115) &\n",
    "    (crime_scene_report['type'] == 'murder') &\n",
    "    (crime_scene_report['city'].str.contains('SQL City', case=False, na=False))\n",
    "]\n",
    "needed_reports"
   ]
  },
  {
   "cell_type": "markdown",
   "id": "e1df13a2",
   "metadata": {},
   "source": [
    "Отчет"
   ]
  },
  {
   "cell_type": "code",
   "execution_count": 11,
   "id": "34ee0169",
   "metadata": {},
   "outputs": [
    {
     "data": {
      "text/plain": [
       "'Security footage shows that there were 2 witnesses. The first witness lives at the last house on \"Northwestern Dr\". The second witness, named Annabel, lives somewhere on \"Franklin Ave\".'"
      ]
     },
     "execution_count": 11,
     "metadata": {},
     "output_type": "execute_result"
    }
   ],
   "source": [
    "needed_reports.iloc[0, 2]"
   ]
  },
  {
   "cell_type": "markdown",
   "id": "d3481bb1",
   "metadata": {},
   "source": [
    "Найти двух людей из базы данных:\n",
    "\n",
    "1. Живет в последнем доме на улице \"Northwestern Dr\"\n",
    "2. Аннабель, живет где-то на \"Franklin Ave\""
   ]
  },
  {
   "cell_type": "code",
   "execution_count": 12,
   "id": "39ede063",
   "metadata": {},
   "outputs": [
    {
     "data": {
      "text/plain": [
       "id                               14887\n",
       "name                    Morty Schapiro\n",
       "license_id                      118009\n",
       "address_number                    4919\n",
       "address_street_name    Northwestern Dr\n",
       "ssn                          111564949\n",
       "Name: 499, dtype: object"
      ]
     },
     "execution_count": 12,
     "metadata": {},
     "output_type": "execute_result"
    }
   ],
   "source": [
    "first_person = person[\n",
    "    person['address_street_name'] == 'Northwestern Dr'\n",
    "].sort_values(by='address_number', ascending=True).iloc[-1]\n",
    "first_person"
   ]
  },
  {
   "cell_type": "code",
   "execution_count": 13,
   "id": "8debf72b",
   "metadata": {},
   "outputs": [
    {
     "data": {
      "text/html": [
       "<div>\n",
       "<style scoped>\n",
       "    .dataframe tbody tr th:only-of-type {\n",
       "        vertical-align: middle;\n",
       "    }\n",
       "\n",
       "    .dataframe tbody tr th {\n",
       "        vertical-align: top;\n",
       "    }\n",
       "\n",
       "    .dataframe thead th {\n",
       "        text-align: right;\n",
       "    }\n",
       "</style>\n",
       "<table border=\"1\" class=\"dataframe\">\n",
       "  <thead>\n",
       "    <tr style=\"text-align: right;\">\n",
       "      <th></th>\n",
       "      <th>id</th>\n",
       "      <th>name</th>\n",
       "      <th>license_id</th>\n",
       "      <th>address_number</th>\n",
       "      <th>address_street_name</th>\n",
       "      <th>ssn</th>\n",
       "    </tr>\n",
       "  </thead>\n",
       "  <tbody>\n",
       "    <tr>\n",
       "      <th>665</th>\n",
       "      <td>16371</td>\n",
       "      <td>Annabel Miller</td>\n",
       "      <td>490173</td>\n",
       "      <td>103</td>\n",
       "      <td>Franklin Ave</td>\n",
       "      <td>318771143</td>\n",
       "    </tr>\n",
       "  </tbody>\n",
       "</table>\n",
       "</div>"
      ],
      "text/plain": [
       "        id            name  license_id  address_number address_street_name  \\\n",
       "665  16371  Annabel Miller      490173             103        Franklin Ave   \n",
       "\n",
       "           ssn  \n",
       "665  318771143  "
      ]
     },
     "execution_count": 13,
     "metadata": {},
     "output_type": "execute_result"
    }
   ],
   "source": [
    "second_person = person[\n",
    "    (person['address_street_name'] == 'Franklin Ave') &\n",
    "    (person['name'].str.contains('Annabel'))\n",
    "]\n",
    "second_person"
   ]
  },
  {
   "cell_type": "markdown",
   "id": "c3d65e37",
   "metadata": {},
   "source": [
    "Ищем интервью с этими людьми по их id-шника"
   ]
  },
  {
   "cell_type": "code",
   "execution_count": 14,
   "id": "dbbaea79",
   "metadata": {},
   "outputs": [
    {
     "name": "stdout",
     "output_type": "stream",
     "text": [
      "Morty said:\n",
      "\t\"I heard a gunshot and then saw a man run out. He had a \"Get Fit Now Gym\" bag. The membership number on the bag started with \"48Z\". Only gold members have those bags. The man got into a car with a plate that included \"H42W\".\"\n",
      "\n",
      "Annabel said:\n",
      "\t\"I saw the murder happen, and I recognized the killer from my gym when I was working out last week on January the 9th.\"\n",
      "\n"
     ]
    }
   ],
   "source": [
    "\n",
    "print(f'Morty said:\\n\\t\"{interview[interview[\"person_id\"] == 14887].iloc[0, 1]}\"\\n')\n",
    "print(f'Annabel said:\\n\\t\"{interview[interview[\"person_id\"] == 16371].iloc[0, 1]}\"\\n')"
   ]
  },
  {
   "cell_type": "markdown",
   "id": "a140ccea",
   "metadata": {},
   "source": [
    "Что нашли\n",
    "\n",
    "- Мужчина\n",
    "- Ходит в зал \"Get Fit Now Gym\"\n",
    "- Номер сумки начинается на 48Z\n",
    "- Номермашины имеет H42W.\n",
    "- Был в зале 9 января\n",
    "\n",
    "Ищем"
   ]
  },
  {
   "cell_type": "code",
   "execution_count": 15,
   "id": "6ad03537",
   "metadata": {},
   "outputs": [
    {
     "data": {
      "text/html": [
       "<div>\n",
       "<style scoped>\n",
       "    .dataframe tbody tr th:only-of-type {\n",
       "        vertical-align: middle;\n",
       "    }\n",
       "\n",
       "    .dataframe tbody tr th {\n",
       "        vertical-align: top;\n",
       "    }\n",
       "\n",
       "    .dataframe thead th {\n",
       "        text-align: right;\n",
       "    }\n",
       "</style>\n",
       "<table border=\"1\" class=\"dataframe\">\n",
       "  <thead>\n",
       "    <tr style=\"text-align: right;\">\n",
       "      <th></th>\n",
       "      <th>id</th>\n",
       "      <th>person_id</th>\n",
       "      <th>name</th>\n",
       "      <th>membership_start_date</th>\n",
       "      <th>membership_status</th>\n",
       "    </tr>\n",
       "  </thead>\n",
       "  <tbody>\n",
       "    <tr>\n",
       "      <th>181</th>\n",
       "      <td>48Z7A</td>\n",
       "      <td>28819</td>\n",
       "      <td>Joe Germuska</td>\n",
       "      <td>20160305</td>\n",
       "      <td>gold</td>\n",
       "    </tr>\n",
       "    <tr>\n",
       "      <th>182</th>\n",
       "      <td>48Z55</td>\n",
       "      <td>67318</td>\n",
       "      <td>Jeremy Bowers</td>\n",
       "      <td>20160101</td>\n",
       "      <td>gold</td>\n",
       "    </tr>\n",
       "  </tbody>\n",
       "</table>\n",
       "</div>"
      ],
      "text/plain": [
       "        id  person_id           name  membership_start_date membership_status\n",
       "181  48Z7A      28819   Joe Germuska               20160305              gold\n",
       "182  48Z55      67318  Jeremy Bowers               20160101              gold"
      ]
     },
     "execution_count": 15,
     "metadata": {},
     "output_type": "execute_result"
    }
   ],
   "source": [
    "suspected_members = get_fit_now_member[\n",
    "    (get_fit_now_member['id'].str.contains('48Z')) &\n",
    "    (get_fit_now_member['membership_status'] == 'gold')\n",
    "]\n",
    "suspected_members"
   ]
  },
  {
   "cell_type": "code",
   "execution_count": 16,
   "id": "2347c04e",
   "metadata": {
    "scrolled": false
   },
   "outputs": [
    {
     "data": {
      "text/html": [
       "<div>\n",
       "<style scoped>\n",
       "    .dataframe tbody tr th:only-of-type {\n",
       "        vertical-align: middle;\n",
       "    }\n",
       "\n",
       "    .dataframe tbody tr th {\n",
       "        vertical-align: top;\n",
       "    }\n",
       "\n",
       "    .dataframe thead th {\n",
       "        text-align: right;\n",
       "    }\n",
       "</style>\n",
       "<table border=\"1\" class=\"dataframe\">\n",
       "  <thead>\n",
       "    <tr style=\"text-align: right;\">\n",
       "      <th></th>\n",
       "      <th>id</th>\n",
       "      <th>age</th>\n",
       "      <th>height</th>\n",
       "      <th>eye_color</th>\n",
       "      <th>hair_color</th>\n",
       "      <th>gender</th>\n",
       "      <th>plate_number</th>\n",
       "      <th>car_make</th>\n",
       "      <th>car_model</th>\n",
       "    </tr>\n",
       "  </thead>\n",
       "  <tbody>\n",
       "    <tr>\n",
       "      <th>3529</th>\n",
       "      <td>423327</td>\n",
       "      <td>30</td>\n",
       "      <td>70</td>\n",
       "      <td>brown</td>\n",
       "      <td>brown</td>\n",
       "      <td>male</td>\n",
       "      <td>0H42W2</td>\n",
       "      <td>Chevrolet</td>\n",
       "      <td>Spark LS</td>\n",
       "    </tr>\n",
       "    <tr>\n",
       "      <th>6240</th>\n",
       "      <td>664760</td>\n",
       "      <td>21</td>\n",
       "      <td>71</td>\n",
       "      <td>black</td>\n",
       "      <td>black</td>\n",
       "      <td>male</td>\n",
       "      <td>4H42WR</td>\n",
       "      <td>Nissan</td>\n",
       "      <td>Altima</td>\n",
       "    </tr>\n",
       "  </tbody>\n",
       "</table>\n",
       "</div>"
      ],
      "text/plain": [
       "          id  age  height eye_color hair_color gender plate_number   car_make  \\\n",
       "3529  423327   30      70     brown      brown   male       0H42W2  Chevrolet   \n",
       "6240  664760   21      71     black      black   male       4H42WR     Nissan   \n",
       "\n",
       "     car_model  \n",
       "3529  Spark LS  \n",
       "6240    Altima  "
      ]
     },
     "execution_count": 16,
     "metadata": {},
     "output_type": "execute_result"
    }
   ],
   "source": [
    "licenses = drivers_license[\n",
    "    (drivers_license['plate_number'].str.contains('H42W')) &\n",
    "    (drivers_license['gender'] == 'male')\n",
    "]\n",
    "licenses"
   ]
  },
  {
   "cell_type": "markdown",
   "id": "818f6292",
   "metadata": {},
   "source": [
    "Проверяем интервью Аннабель"
   ]
  },
  {
   "cell_type": "code",
   "execution_count": 17,
   "id": "03b9152d",
   "metadata": {},
   "outputs": [
    {
     "data": {
      "text/html": [
       "<div>\n",
       "<style scoped>\n",
       "    .dataframe tbody tr th:only-of-type {\n",
       "        vertical-align: middle;\n",
       "    }\n",
       "\n",
       "    .dataframe tbody tr th {\n",
       "        vertical-align: top;\n",
       "    }\n",
       "\n",
       "    .dataframe thead th {\n",
       "        text-align: right;\n",
       "    }\n",
       "</style>\n",
       "<table border=\"1\" class=\"dataframe\">\n",
       "  <thead>\n",
       "    <tr style=\"text-align: right;\">\n",
       "      <th></th>\n",
       "      <th>id</th>\n",
       "      <th>person_id</th>\n",
       "      <th>name</th>\n",
       "      <th>membership_start_date</th>\n",
       "      <th>membership_status</th>\n",
       "      <th>membership_id</th>\n",
       "      <th>check_in_date</th>\n",
       "      <th>check_in_time</th>\n",
       "      <th>check_out_time</th>\n",
       "    </tr>\n",
       "  </thead>\n",
       "  <tbody>\n",
       "    <tr>\n",
       "      <th>0</th>\n",
       "      <td>48Z7A</td>\n",
       "      <td>28819</td>\n",
       "      <td>Joe Germuska</td>\n",
       "      <td>20160305</td>\n",
       "      <td>gold</td>\n",
       "      <td>48Z7A</td>\n",
       "      <td>20180109</td>\n",
       "      <td>1600</td>\n",
       "      <td>1730</td>\n",
       "    </tr>\n",
       "    <tr>\n",
       "      <th>1</th>\n",
       "      <td>48Z55</td>\n",
       "      <td>67318</td>\n",
       "      <td>Jeremy Bowers</td>\n",
       "      <td>20160101</td>\n",
       "      <td>gold</td>\n",
       "      <td>48Z55</td>\n",
       "      <td>20180109</td>\n",
       "      <td>1530</td>\n",
       "      <td>1700</td>\n",
       "    </tr>\n",
       "  </tbody>\n",
       "</table>\n",
       "</div>"
      ],
      "text/plain": [
       "      id  person_id           name  membership_start_date membership_status  \\\n",
       "0  48Z7A      28819   Joe Germuska               20160305              gold   \n",
       "1  48Z55      67318  Jeremy Bowers               20160101              gold   \n",
       "\n",
       "  membership_id  check_in_date  check_in_time  check_out_time  \n",
       "0         48Z7A       20180109           1600            1730  \n",
       "1         48Z55       20180109           1530            1700  "
      ]
     },
     "execution_count": 17,
     "metadata": {},
     "output_type": "execute_result"
    }
   ],
   "source": [
    "gym_suspects = pd.merge(\n",
    "    suspected_members, get_fit_now_check_in, left_on='id', right_on='membership_id', how='inner'\n",
    ")\n",
    "gym_suspects"
   ]
  },
  {
   "cell_type": "markdown",
   "id": "3ab2adb4",
   "metadata": {},
   "source": [
    "Оба были в зале в один день с Аннабель. Смотрим их интервью"
   ]
  },
  {
   "cell_type": "code",
   "execution_count": 18,
   "id": "2f2a455d",
   "metadata": {},
   "outputs": [
    {
     "data": {
      "text/plain": [
       "'I was hired by a woman with a lot of money. I don\\'t know her name but I know she\\'s around 5\\'5\" (65\") or 5\\'7\" (67\"). She has red hair and she drives a Tesla Model S. I know that she attended the SQL Symphony Concert 3 times in December 2017.\\n'"
      ]
     },
     "execution_count": 18,
     "metadata": {},
     "output_type": "execute_result"
    }
   ],
   "source": [
    "interviews = interview[interview['person_id'].isin(gym_suspects['person_id'].to_list())]\n",
    "interviews\n",
    "interviews.iloc[0, 1]"
   ]
  },
  {
   "cell_type": "markdown",
   "id": "7f16e0d1",
   "metadata": {},
   "source": [
    "Агрегируем информацию"
   ]
  },
  {
   "cell_type": "code",
   "execution_count": 19,
   "id": "83531e2e",
   "metadata": {},
   "outputs": [
    {
     "data": {
      "text/html": [
       "<div>\n",
       "<style scoped>\n",
       "    .dataframe tbody tr th:only-of-type {\n",
       "        vertical-align: middle;\n",
       "    }\n",
       "\n",
       "    .dataframe tbody tr th {\n",
       "        vertical-align: top;\n",
       "    }\n",
       "\n",
       "    .dataframe thead th {\n",
       "        text-align: right;\n",
       "    }\n",
       "</style>\n",
       "<table border=\"1\" class=\"dataframe\">\n",
       "  <thead>\n",
       "    <tr style=\"text-align: right;\">\n",
       "      <th></th>\n",
       "      <th>id_x</th>\n",
       "      <th>name</th>\n",
       "      <th>license_id</th>\n",
       "      <th>address_number</th>\n",
       "      <th>address_street_name</th>\n",
       "      <th>ssn</th>\n",
       "      <th>id_y</th>\n",
       "      <th>age</th>\n",
       "      <th>height</th>\n",
       "      <th>eye_color</th>\n",
       "      <th>hair_color</th>\n",
       "      <th>gender</th>\n",
       "      <th>plate_number</th>\n",
       "      <th>car_make</th>\n",
       "      <th>car_model</th>\n",
       "      <th>annual_income</th>\n",
       "    </tr>\n",
       "  </thead>\n",
       "  <tbody>\n",
       "    <tr>\n",
       "      <th>0</th>\n",
       "      <td>67318</td>\n",
       "      <td>Jeremy Bowers</td>\n",
       "      <td>423327</td>\n",
       "      <td>530</td>\n",
       "      <td>Washington Pl, Apt 3A</td>\n",
       "      <td>871539279</td>\n",
       "      <td>423327</td>\n",
       "      <td>30</td>\n",
       "      <td>70</td>\n",
       "      <td>brown</td>\n",
       "      <td>brown</td>\n",
       "      <td>male</td>\n",
       "      <td>0H42W2</td>\n",
       "      <td>Chevrolet</td>\n",
       "      <td>Spark LS</td>\n",
       "      <td>10500</td>\n",
       "    </tr>\n",
       "  </tbody>\n",
       "</table>\n",
       "</div>"
      ],
      "text/plain": [
       "    id_x           name  license_id  address_number    address_street_name  \\\n",
       "0  67318  Jeremy Bowers      423327             530  Washington Pl, Apt 3A   \n",
       "\n",
       "         ssn    id_y  age  height eye_color hair_color gender plate_number  \\\n",
       "0  871539279  423327   30      70     brown      brown   male       0H42W2   \n",
       "\n",
       "    car_make car_model  annual_income  \n",
       "0  Chevrolet  Spark LS          10500  "
      ]
     },
     "execution_count": 19,
     "metadata": {},
     "output_type": "execute_result"
    }
   ],
   "source": [
    "person_info = pd.merge(person, licenses, left_on='license_id', right_on='id', how='inner')\n",
    "full_person_info = pd.merge(person_info, income, left_on='ssn', right_on='ssn', how='inner')\n",
    "full_person_info"
   ]
  },
  {
   "cell_type": "markdown",
   "id": "236c7fe4",
   "metadata": {},
   "source": [
    "**Ответ - убийца Джереми Боуэрс**"
   ]
  },
  {
   "cell_type": "markdown",
   "id": "20e3a85b",
   "metadata": {},
   "source": [
    "Проверяем кто заказчик"
   ]
  },
  {
   "cell_type": "code",
   "execution_count": 20,
   "id": "4c92e0f4",
   "metadata": {},
   "outputs": [
    {
     "data": {
      "text/html": [
       "<div>\n",
       "<style scoped>\n",
       "    .dataframe tbody tr th:only-of-type {\n",
       "        vertical-align: middle;\n",
       "    }\n",
       "\n",
       "    .dataframe tbody tr th {\n",
       "        vertical-align: top;\n",
       "    }\n",
       "\n",
       "    .dataframe thead th {\n",
       "        text-align: right;\n",
       "    }\n",
       "</style>\n",
       "<table border=\"1\" class=\"dataframe\">\n",
       "  <thead>\n",
       "    <tr style=\"text-align: right;\">\n",
       "      <th></th>\n",
       "      <th>person_id</th>\n",
       "      <th>event_id</th>\n",
       "      <th>event_name</th>\n",
       "      <th>date</th>\n",
       "    </tr>\n",
       "  </thead>\n",
       "  <tbody>\n",
       "    <tr>\n",
       "      <th>20006</th>\n",
       "      <td>99716</td>\n",
       "      <td>1143</td>\n",
       "      <td>SQL Symphony Concert</td>\n",
       "      <td>20171206</td>\n",
       "    </tr>\n",
       "    <tr>\n",
       "      <th>20007</th>\n",
       "      <td>99716</td>\n",
       "      <td>1143</td>\n",
       "      <td>SQL Symphony Concert</td>\n",
       "      <td>20171212</td>\n",
       "    </tr>\n",
       "    <tr>\n",
       "      <th>20008</th>\n",
       "      <td>99716</td>\n",
       "      <td>1143</td>\n",
       "      <td>SQL Symphony Concert</td>\n",
       "      <td>20171229</td>\n",
       "    </tr>\n",
       "  </tbody>\n",
       "</table>\n",
       "</div>"
      ],
      "text/plain": [
       "       person_id  event_id            event_name      date\n",
       "20006      99716      1143  SQL Symphony Concert  20171206\n",
       "20007      99716      1143  SQL Symphony Concert  20171212\n",
       "20008      99716      1143  SQL Symphony Concert  20171229"
      ]
     },
     "execution_count": 20,
     "metadata": {},
     "output_type": "execute_result"
    }
   ],
   "source": [
    "customers_licenses = drivers_license[\n",
    "    ((drivers_license['height'] >= 65) & (drivers_license['height'] <= 67)) &\n",
    "    (drivers_license['hair_color'] == 'red') &\n",
    "    (drivers_license['car_make'] == 'Tesla') &\n",
    "    (drivers_license['car_model'] == 'Model S')\n",
    "]\n",
    "customers = person[person['license_id'].isin(customers_licenses['id'].to_list())]\n",
    "facebook_event_checkin[\n",
    "    (facebook_event_checkin['event_name'].str.contains('SQL Symphony Concert')) &\n",
    "    (facebook_event_checkin['person_id'].isin(customers['id'].to_list()))\n",
    "]"
   ]
  },
  {
   "cell_type": "markdown",
   "id": "32e0f27b",
   "metadata": {},
   "source": [
    "**Ответ 2 - заказчик убийства Миранда Пристли**"
   ]
  }
 ],
 "metadata": {
  "kernelspec": {
   "display_name": "Python 3",
   "language": "python",
   "name": "python3"
  },
  "language_info": {
   "codemirror_mode": {
    "name": "ipython",
    "version": 3
   },
   "file_extension": ".py",
   "mimetype": "text/x-python",
   "name": "python",
   "nbconvert_exporter": "python",
   "pygments_lexer": "ipython3",
   "version": "3.9.6"
  }
 },
 "nbformat": 4,
 "nbformat_minor": 5
}
